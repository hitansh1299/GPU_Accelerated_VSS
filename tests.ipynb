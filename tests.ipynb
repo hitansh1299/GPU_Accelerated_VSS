{
 "cells": [
  {
   "cell_type": "code",
   "execution_count": 2,
   "metadata": {},
   "outputs": [],
   "source": [
    "from skimage.metrics import peak_signal_noise_ratio, structural_similarity, normalized_root_mse\n",
    "import cv2 as cv\n",
    "import matplotlib.pyplot as plt\n",
    "\n"
   ]
  },
  {
   "cell_type": "code",
   "execution_count": 5,
   "metadata": {},
   "outputs": [],
   "source": [
    "reference = 'Sample.mp4'\n",
    "lossless = 'output.avi'\n",
    "lossy_8_bit = 'output_lossy.avi'\n",
    "lossy_16_bit = 'output_lossy_high_res.avi'"
   ]
  },
  {
   "cell_type": "code",
   "execution_count": 7,
   "metadata": {},
   "outputs": [],
   "source": [
    "'''\n",
    "Returns a list of psnr values and the average psnr\n",
    "'''\n",
    "def vid_psnr(vid_path: str, reference='Sample.mp4'):\n",
    "    vid = cv.VideoCapture(vid_path)\n",
    "    ref = cv.VideoCapture(reference)\n",
    "    res = []\n",
    "    while(vid.isOpened() and ref.isOpened()):\n",
    "        ret1, vid_frame = vid.read()\n",
    "        ret2, ref_frame = ref.read()\n",
    "\n",
    "        if ret1 and ret2:\n",
    "            res.append(peak_signal_noise_ratio(ref_frame, vid_frame))\n",
    "        else:\n",
    "            break\n",
    "\n",
    "        if cv.waitKey(1) & 0xFF == ord('q'):\n",
    "            break\n",
    "    vid.release()\n",
    "    ref.release()\n",
    "    cv.destroyAllWindows()\n",
    "    return res\n",
    "    "
   ]
  },
  {
   "cell_type": "code",
   "execution_count": 15,
   "metadata": {},
   "outputs": [],
   "source": [
    "def vid_ssim(vid_path: str, reference='Sample.mp4'):\n",
    "    vid = cv.VideoCapture(vid_path)\n",
    "    ref = cv.VideoCapture(reference)\n",
    "    res = []\n",
    "    while(vid.isOpened() and ref.isOpened()):\n",
    "        ret1, vid_frame = vid.read()\n",
    "        ret2, ref_frame = ref.read()\n",
    "\n",
    "        if ret1 and ret2:\n",
    "            res.append(structural_similarity(ref_frame, vid_frame, channel_axis=2))\n",
    "        else:\n",
    "            break\n",
    "\n",
    "        if cv.waitKey(1) & 0xFF == ord('q'):\n",
    "            break\n",
    "    vid.release()\n",
    "    ref.release()\n",
    "    cv.destroyAllWindows()\n",
    "    return res\n",
    "    "
   ]
  },
  {
   "cell_type": "code",
   "execution_count": 16,
   "metadata": {},
   "outputs": [
    {
     "name": "stdout",
     "output_type": "stream",
     "text": [
      "AVERAGE PSNR:  18.192480622234207\n",
      "AVERAGE SSIM:  0.5764946014378319\n"
     ]
    }
   ],
   "source": [
    "psnrs = vid_psnr(lossy_8_bit)\n",
    "ssims = vid_ssim(lossy_8_bit)\n",
    "print('AVERAGE PSNR: ', sum(psnrs)/len(psnrs))\n",
    "print('AVERAGE SSIM: ', sum(ssims)/len(ssims))"
   ]
  },
  {
   "cell_type": "code",
   "execution_count": 17,
   "metadata": {},
   "outputs": [
    {
     "name": "stdout",
     "output_type": "stream",
     "text": [
      "AVERAGE PSNR:  37.122527002177485\n",
      "AVERAGE SSIM:  0.9776889364138371\n"
     ]
    }
   ],
   "source": [
    "psnrs = vid_psnr(lossy_16_bit)\n",
    "ssims = vid_ssim(lossy_16_bit)\n",
    "print('AVERAGE PSNR: ', sum(psnrs)/len(psnrs))\n",
    "print('AVERAGE SSIM: ', sum(ssims)/len(ssims))"
   ]
  },
  {
   "cell_type": "code",
   "execution_count": 18,
   "metadata": {},
   "outputs": [
    {
     "name": "stderr",
     "output_type": "stream",
     "text": [
      "c:\\Users\\hitan\\OneDrive\\Desktop\\MiniProjects\\SemVII_Capstone\\.venv\\lib\\site-packages\\skimage\\metrics\\simple_metrics.py:163: RuntimeWarning: divide by zero encountered in scalar divide\n",
      "  return 10 * np.log10((data_range ** 2) / err)\n"
     ]
    },
    {
     "name": "stdout",
     "output_type": "stream",
     "text": [
      "AVERAGE PSNR:  inf\n",
      "AVERAGE SSIM:  1.0\n"
     ]
    }
   ],
   "source": [
    "psnrs = vid_psnr(lossless)\n",
    "ssims = vid_ssim(lossless)\n",
    "print('AVERAGE PSNR: ', sum(psnrs)/len(psnrs))\n",
    "print('AVERAGE SSIM: ', sum(ssims)/len(ssims))"
   ]
  }
 ],
 "metadata": {
  "kernelspec": {
   "display_name": ".venv",
   "language": "python",
   "name": "python3"
  },
  "language_info": {
   "codemirror_mode": {
    "name": "ipython",
    "version": 3
   },
   "file_extension": ".py",
   "mimetype": "text/x-python",
   "name": "python",
   "nbconvert_exporter": "python",
   "pygments_lexer": "ipython3",
   "version": "3.10.5"
  },
  "orig_nbformat": 4
 },
 "nbformat": 4,
 "nbformat_minor": 2
}
